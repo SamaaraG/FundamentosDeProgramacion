{
  "metadata": {
    "kernelspec": {
      "name": "xpython",
      "display_name": "Python 3.13 (XPython)",
      "language": "python"
    },
    "language_info": {
      "file_extension": ".py",
      "mimetype": "text/x-python",
      "name": "python",
      "version": "3.13.1"
    }
  },
  "nbformat_minor": 5,
  "nbformat": 4,
  "cells": [
    {
      "id": "5f6037e9-2263-48ad-9256-c4831e098a7d",
      "cell_type": "code",
      "source": "#Lista de compañeros\nlista=[\"Juan\",\"Ivan\",\"Adrian\",\"Jair\"]\nprint (lista)\n#Imprimir lista\nprint(lista[2])\nlista.append(\"Alexa\")\nprint(lista)\nlista.insert(1,\"Javier\")\nprint(lista)\n#Imprimir lista pop\nlista.pop()\nlista.remove(\"Juan\")\nlista.pop(1)\n",
      "metadata": {
        "trusted": true
      },
      "outputs": [
        {
          "name": "stdout",
          "output_type": "stream",
          "text": "['Juan', 'Ivan', 'Adrian', 'Jair']\nAdrian\n['Juan', 'Ivan', 'Adrian', 'Jair', 'Alexa']\n['Juan', 'Javier', 'Ivan', 'Adrian', 'Jair', 'Alexa']\n"
        },
        {
          "execution_count": 1,
          "output_type": "execute_result",
          "data": {
            "text/plain": "'Ivan'"
          },
          "metadata": {}
        }
      ],
      "execution_count": 1
    }
  ]
}