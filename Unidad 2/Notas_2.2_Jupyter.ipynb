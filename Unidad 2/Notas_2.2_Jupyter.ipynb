{
  "cells": [
    {
      "cell_type": "code",
      "execution_count": null,
      "id": "c6a049d4-34b5-4d83-9dd2-baea451e38d9",
      "metadata": {
        "trusted": true
      },
      "outputs": [
        {
          "name": "stdout",
          "output_type": "stream",
          "text": [
            "Número 1\n",
            "Número 2\n",
            "Número 3\n",
            "Número 4\n"
          ]
        }
      ],
      "source": [
        "for i in range (1,5):\n",
        "    print (\"Número i\")\n",
        "\n"
      ]
    },
    {
      "cell_type": "code",
      "execution_count": null,
      "id": "fe414744-f2ae-4411-b63a-5bea3a52de57",
      "metadata": {
        "trusted": true
      },
      "outputs": [
        {
          "name": "stdout",
          "output_type": "stream",
          "text": [
            "La suma de los primeros 10 números es: 55\n"
          ]
        }
      ],
      "source": [
        "suma = 0\n",
        "\n",
        "for i in range(1, 11):\n",
        "    suma += i\n",
        "\n",
        "print(\"La suma de los primeros 10 números es:\", suma)"
      ]
    },
    {
      "cell_type": "code",
      "execution_count": 9,
      "id": "b3c1bfdc-f5a1-4fcd-ba31-93ce26709dc9",
      "metadata": {
        "trusted": true
      },
      "outputs": [
        {
          "name": "stdout",
          "output_type": "stream",
          "text": [
            "Hola, Ed\n",
            "Hola, Jorge\n",
            "Hola, María\n",
            "Hola, Luisa\n"
          ]
        }
      ],
      "source": [
        "nombres = [\"Ed\", \"Jorge\", \"María\", \"Luisa\"]\n",
        "\n",
        "for nombre in nombres:\n",
        "    print(\"Hola,\", nombre)"
      ]
    },
    {
      "cell_type": "code",
      "execution_count": 3,
      "id": "74a1c327-7d44-41db-9a71-6ce9a29f5ede",
      "metadata": {
        "trusted": true
      },
      "outputs": [
        {
          "name": "stdout",
          "output_type": "stream",
          "text": [
            "Feliz cumpleaños número 1\n",
            "Feliz cumpleaños número 2\n",
            "Feliz cumpleaños número 3\n",
            "Feliz cumpleaños número 4\n",
            "Feliz cumpleaños número 5\n",
            "Feliz cumpleaños número 6\n"
          ]
        }
      ],
      "source": [
        "Cumple = int(input(\"¿Cuál es tu edad?\"))\n",
        "for i in range(1, Cumple + 1):\n",
        "    print(\"Feliz cumpleaños número\",i)"
      ]
    },
    {
      "cell_type": "code",
      "execution_count": 4,
      "id": "c5e6694f-f319-4b86-8aad-ca95a4afb64b",
      "metadata": {
        "trusted": true
      },
      "outputs": [
        {
          "name": "stdout",
          "output_type": "stream",
          "text": [
            "Has elegido abrir un archivo\n"
          ]
        }
      ],
      "source": [
        "#Hacer que con un input se agregue la edad\n",
        "opcion = 2\n",
        "\n",
        "if opcion == 1:\n",
        "    print(\"Has elegido guardar el archivo\")\n",
        "elif opcion == 2:\n",
        "    print(\"Has elegido abrir un archivo\")\n",
        "elif opcion == 3:\n",
        "    print(\"Has elegido salir del programa\")\n",
        "else:\n",
        "    print(\"Opción no válida\")"
      ]
    },
    {
      "cell_type": "code",
      "execution_count": 5,
      "id": "8a258949-082c-403f-a079-89dfd3698c93",
      "metadata": {
        "trusted": true
      },
      "outputs": [
        {
          "name": "stdout",
          "output_type": "stream",
          "text": [
            "Aprobado\n"
          ]
        }
      ],
      "source": [
        "#Hacer que con un input se agregue la calificación\n",
        "\n",
        "calificacion = 75\n",
        "if calificacion >= 90:\n",
        "    print(\"Excelente\")\n",
        "elif calificacion >= 70:\n",
        "    print(\"Aprobado\")\n",
        "else:\n",
        "    print(\"Reprobado\")"
      ]
    },
    {
      "cell_type": "code",
      "execution_count": 6,
      "id": "70993120-b8a9-4a49-9738-95649c716e48",
      "metadata": {
        "trusted": true
      },
      "outputs": [
        {
          "name": "stdout",
          "output_type": "stream",
          "text": [
            "¡Correcto! El número era 7\n"
          ]
        }
      ],
      "source": [
        "numero_secreto = 7\n",
        "adivinanza = 0\n",
        "\n",
        "while adivinanza == numero_secreto:\n",
        "    adivinanza = int(input(\"Adivina el número (1-10): \"))\n",
        "\n",
        "print(\"¡Correcto! El número era\", numero_secreto)"
      ]
    },
    {
      "cell_type": "code",
      "execution_count": 7,
      "id": "c8274d44-eaa9-41b5-bcb4-539af62e83b5",
      "metadata": {
        "trusted": true
      },
      "outputs": [
        {
          "name": "stdout",
          "output_type": "stream",
          "text": [
            "Número: 1\n",
            "Número: 2\n",
            "Número: 3\n",
            "Número: 4\n",
            "Número: 5\n"
          ]
        }
      ],
      "source": [
        "contador = 1\n",
        "\n",
        "while contador <= 5:\n",
        "    print(\"Número:\", contador)\n",
        "    contador += 1  # incrementa el contador"
      ]
    }
  ],
  "metadata": {
    "kernelspec": {
      "display_name": "Python 3",
      "language": "python",
      "name": "python3"
    },
    "language_info": {
      "codemirror_mode": {
        "name": "ipython",
        "version": 3
      },
      "file_extension": ".py",
      "mimetype": "text/x-python",
      "name": "python",
      "nbconvert_exporter": "python",
      "pygments_lexer": "ipython3",
      "version": "3.13.7"
    }
  },
  "nbformat": 4,
  "nbformat_minor": 5
}
